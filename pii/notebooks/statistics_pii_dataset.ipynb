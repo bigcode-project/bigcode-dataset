{
 "cells": [
  {
   "cell_type": "code",
   "execution_count": 1,
   "metadata": {},
   "outputs": [
    {
     "data": {
      "application/vnd.jupyter.widget-view+json": {
       "model_id": "9b5104608e11454b94a8167e6850d550",
       "version_major": 2,
       "version_minor": 0
      },
      "text/plain": [
       "Downloading readme:   0%|          | 0.00/3.44k [00:00<?, ?B/s]"
      ]
     },
     "metadata": {},
     "output_type": "display_data"
    },
    {
     "name": "stderr",
     "output_type": "stream",
     "text": [
      "Using custom data configuration bigcode--pii-for-code-3fe61a20f3bcbd4c\n"
     ]
    },
    {
     "name": "stdout",
     "output_type": "stream",
     "text": [
      "Downloading and preparing dataset json/bigcode--pii-for-code to /Users/loubnabenallal/.cache/huggingface/datasets/bigcode___json/bigcode--pii-for-code-3fe61a20f3bcbd4c/0.0.0/e6070c77f18f01a5ad4551a8b7edfba20b8438b7cad4d94e6ad9378022ce4aab...\n"
     ]
    },
    {
     "data": {
      "application/vnd.jupyter.widget-view+json": {
       "model_id": "f969821d093147489bee104f5cbd42a6",
       "version_major": 2,
       "version_minor": 0
      },
      "text/plain": [
       "Downloading data files:   0%|          | 0/1 [00:00<?, ?it/s]"
      ]
     },
     "metadata": {},
     "output_type": "display_data"
    },
    {
     "data": {
      "application/vnd.jupyter.widget-view+json": {
       "model_id": "954e6b858e0c4722b6dbc9a973de1e07",
       "version_major": 2,
       "version_minor": 0
      },
      "text/plain": [
       "Downloading data:   0%|          | 0.00/3.60M [00:00<?, ?B/s]"
      ]
     },
     "metadata": {},
     "output_type": "display_data"
    },
    {
     "data": {
      "application/vnd.jupyter.widget-view+json": {
       "model_id": "83f48e45adb041919b9af62c302ad997",
       "version_major": 2,
       "version_minor": 0
      },
      "text/plain": [
       "Extracting data files:   0%|          | 0/1 [00:00<?, ?it/s]"
      ]
     },
     "metadata": {},
     "output_type": "display_data"
    },
    {
     "data": {
      "application/vnd.jupyter.widget-view+json": {
       "model_id": "51b0bce2fe144cc0a69ce3ac0a8b8283",
       "version_major": 2,
       "version_minor": 0
      },
      "text/plain": [
       "0 tables [00:00, ? tables/s]"
      ]
     },
     "metadata": {},
     "output_type": "display_data"
    },
    {
     "name": "stdout",
     "output_type": "stream",
     "text": [
      "Dataset json downloaded and prepared to /Users/loubnabenallal/.cache/huggingface/datasets/bigcode___json/bigcode--pii-for-code-3fe61a20f3bcbd4c/0.0.0/e6070c77f18f01a5ad4551a8b7edfba20b8438b7cad4d94e6ad9378022ce4aab. Subsequent calls will reuse this data.\n"
     ]
    }
   ],
   "source": [
    "from datasets import load_dataset\n",
    "\n",
    "ds = load_dataset(\"bigcode/pii-for-code\", split=\"train\", use_auth_token=True)"
   ]
  },
  {
   "cell_type": "code",
   "execution_count": 27,
   "metadata": {},
   "outputs": [],
   "source": [
    "import json\n",
    "\n",
    "TAGS = [\"EMAIL\", \"IP_ADDRESS\", \"SSH_KEY\", \"API_KEY\", \"NAME\", \"USERNAME\", \"PASSWORD\", \"AMBIGUOUS\"]\n",
    "\n",
    "def get_pii_list(ds):\n",
    "    list_pii = []\n",
    "    for example in ds:\n",
    "        pii = json.loads(example[\"pii\"])\n",
    "        for sample in pii:\n",
    "            list_pii.append(sample)\n",
    "    return list_pii\n",
    "\n",
    "def get_pii_stats(list_pii):\n",
    "    stats = {}\n",
    "    values = {}\n",
    "    for tag in TAGS:\n",
    "        stats[tag] = 0\n",
    "        values[tag] = []\n",
    "    # iterate over list of pii and count the number of times we see each tag\n",
    "    for sample in list_pii:\n",
    "        for tag in TAGS:\n",
    "            if tag == sample[\"tag\"]:\n",
    "                stats[tag] += 1\n",
    "                values[tag].append(sample[\"value\"])\n",
    "    return {\"stats\": stats, \"values\": values}"
   ]
  },
  {
   "cell_type": "code",
   "execution_count": 49,
   "metadata": {},
   "outputs": [
    {
     "name": "stdout",
     "output_type": "stream",
     "text": [
      "1154\n"
     ]
    }
   ],
   "source": [
    "list_pii = get_pii_list(ds)\n",
    "stats = get_pii_stats(list_pii)\n",
    "print(len(list_pii))"
   ]
  },
  {
   "cell_type": "code",
   "execution_count": 50,
   "metadata": {},
   "outputs": [],
   "source": [
    "# append lists in values with empty strings to have the same length in all tags\n",
    "# make a deepcopy of values to avoid modifying the original list\n",
    "import copy\n",
    "\n",
    "values = copy.deepcopy(stats[\"values\"])\n",
    "max_len = max([len(values[tag]) for tag in TAGS])\n",
    "for tag in TAGS:\n",
    "    values[tag] += [\"\"] * (max_len - len(values[tag]))"
   ]
  },
  {
   "cell_type": "code",
   "execution_count": 51,
   "metadata": {},
   "outputs": [],
   "source": [
    "# build hf datasets from values\n",
    "import pandas as pd\n",
    "import datasets\n",
    "\n",
    "df = pd.DataFrame(values)\n",
    "dataset = datasets.Dataset.from_pandas(df)"
   ]
  },
  {
   "cell_type": "code",
   "execution_count": 53,
   "metadata": {},
   "outputs": [
    {
     "data": {
      "text/plain": [
       "Dataset({\n",
       "    features: ['EMAIL', 'IP_ADDRESS', 'SSH_KEY', 'API_KEY', 'NAME', 'USERNAME', 'PASSWORD', 'AMBIGUOUS'],\n",
       "    num_rows: 369\n",
       "})"
      ]
     },
     "execution_count": 53,
     "metadata": {},
     "output_type": "execute_result"
    }
   ],
   "source": [
    "dataset"
   ]
  },
  {
   "cell_type": "code",
   "execution_count": 54,
   "metadata": {},
   "outputs": [
    {
     "data": {
      "application/vnd.jupyter.widget-view+json": {
       "model_id": "e8a1da3a412b488687a8569a3eaa341b",
       "version_major": 2,
       "version_minor": 0
      },
      "text/plain": [
       "Pushing dataset shards to the dataset hub:   0%|          | 0/1 [00:00<?, ?it/s]"
      ]
     },
     "metadata": {},
     "output_type": "display_data"
    }
   ],
   "source": [
    "dataset.push_to_hub(\"loubnabnl/pii-instances\")"
   ]
  },
  {
   "cell_type": "code",
   "execution_count": 42,
   "metadata": {},
   "outputs": [
    {
     "data": {
      "image/png": "[encoded data removed]",
      "text/plain": [
       "<Figure size 800x500 with 1 Axes>"
      ]
     },
     "metadata": {},
     "output_type": "display_data"
    }
   ],
   "source": [
    "# plot distribution of tags\n",
    "import matplotlib.pyplot as plt\n",
    "# use ggplot style defaults and set the default figure size\n",
    "plt.style.use('ggplot')\n",
    "plt.rcParams['figure.figsize'] = (8, 5)\n",
    "# sort stats by value descending\n",
    "sorted_stats = {k: v for k, v in sorted(stats[\"stats\"].items(), key=lambda item: item[1], reverse=True)}\n",
    "plt.bar(sorted_stats.keys(), sorted_stats.values())\n",
    "# add title to the plot\n",
    "plt.title(\"Distribution of PII tags\")\n",
    "# rotate xlabels\n",
    "plt.xticks(rotation=90)\n",
    "# use black ticks\n",
    "#plt.tick_params(colors='black')\n",
    "plt.show()\n"
   ]
  }
 ],
 "metadata": {
  "kernelspec": {
   "display_name": "Python 3.10.4 ('venv')",
   "language": "python",
   "name": "python3"
  },
  "language_info": {
   "codemirror_mode": {
    "name": "ipython",
    "version": 3
   },
   "file_extension": ".py",
   "mimetype": "text/x-python",
   "name": "python",
   "nbconvert_exporter": "python",
   "pygments_lexer": "ipython3",
   "version": "3.10.4"
  },
  "orig_nbformat": 4,
  "vscode": {
   "interpreter": {
    "hash": "fd8fde6f83dada9276d12fdb71d773558994168ed1b3bea457b8db38c02aa2e1"
   }
  }
 },
 "nbformat": 4,
 "nbformat_minor": 2
}
