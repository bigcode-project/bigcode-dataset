{
 "cells": [
  {
   "cell_type": "markdown",
   "metadata": {},
   "source": [
    "### Pre-filtering for LightTag annotation"
   ]
  },
  {
   "cell_type": "markdown",
   "metadata": {},
   "source": [
    "Setting up data for LighTag annotation: select 400 samples which are likely to contain PII from a set of 4000 random samples from 11 programming languages."
   ]
  },
  {
   "cell_type": "code",
   "execution_count": null,
   "metadata": {},
   "outputs": [],
   "source": [
    "from datasets import load_dataset, concatenate_datasets\n",
    "\n",
    "nsamples = {'python': 800, 'c++': 800, 'javascript': 400, 'java': 400, 'typescript': 400, 'php': 400, 'c': 160, 'c-sharp': 160, 'markdown': 160, 'go': 160, 'ruby': 160}\n",
    "languages = list(nsamples.keys())\n",
    "# 4X the size of the original annotation dataset\n",
    "seed = 41\n",
    "\n",
    "ds = load_dataset(\"bigcode/the-stack-smol\", data_dir=\"data/python/\", split=\"train\")\n",
    "ds = ds.shuffle(seed=seed)\n",
    "ds = ds.select(range(nsamples[\"python\"]))\n",
    "\n",
    "final_ds = ds\n",
    "\n",
    "for lang in languages[1:]:\n",
    "    ds = load_dataset(\"bigcode/the-stack-smol\", data_dir=f\"data/{lang}/\", split=\"train\")\n",
    "    ds = ds.shuffle(seed=seed)\n",
    "    ds = ds.select(range(nsamples[lang]))\n",
    "    final_ds = concatenate_datasets([final_ds, ds])\n",
    "\n",
    "final_ds = final_ds.remove_columns(['avg_line_length', 'max_line_length', 'alphanum_fraction'])\n",
    "#final_ds.push_to_hub(\"pii_labeling_dataset_v2\")"
   ]
  },
  {
   "cell_type": "code",
   "execution_count": 37,
   "metadata": {},
   "outputs": [
    {
     "data": {
      "text/plain": [
       "Dataset({\n",
       "    features: ['content', 'licenses', 'repository_name', 'path', 'size', 'lang'],\n",
       "    num_rows: 5000\n",
       "})"
      ]
     },
     "execution_count": 37,
     "metadata": {},
     "output_type": "execute_result"
    }
   ],
   "source": [
    "final_ds"
   ]
  },
  {
   "cell_type": "code",
   "execution_count": null,
   "metadata": {},
   "outputs": [],
   "source": [
    "from bigscience_pii_detect_redact import run_pii_batch\n",
    "from functools import partial\n",
    "\n",
    "ds_pii_bs = final_ds.map(\n",
    "    partial(run_pii_batch),\n",
    "    batched=True,\n",
    "    batch_size=10,\n",
    "    num_proc=12,\n",
    "    load_from_cache_file=False\n",
    ")"
   ]
  },
  {
   "cell_type": "code",
   "execution_count": null,
   "metadata": {},
   "outputs": [],
   "source": [
    "ds_checks_bs = ds_pii_bs.filter(\n",
    "    lambda exs: exs[\"modified\"],\n",
    "    batched=True,\n",
    "    batch_size=10,\n",
    "    num_proc=12\n",
    ")"
   ]
  },
  {
   "cell_type": "code",
   "execution_count": 46,
   "metadata": {},
   "outputs": [
    {
     "data": {
      "text/plain": [
       "Dataset({\n",
       "    features: ['content', 'licenses', 'repository_name', 'path', 'size', 'lang', 'regex_metadata', 'old_text', 'modified'],\n",
       "    num_rows: 600\n",
       "})"
      ]
     },
     "execution_count": 46,
     "metadata": {},
     "output_type": "execute_result"
    }
   ],
   "source": [
    "ds_checks_bs"
   ]
  },
  {
   "cell_type": "markdown",
   "metadata": {},
   "source": [
    "### Run dteect secrets on non selected samples"
   ]
  },
  {
   "cell_type": "code",
   "execution_count": null,
   "metadata": {},
   "outputs": [],
   "source": [
    "from pii_detect_secrets import scan_str_content\n",
    "import os\n",
    "\n",
    "def scan_pii_batch(examples):\n",
    "    pii = []\n",
    "    has_pii = []\n",
    "    for text in examples[\"content\"]:\n",
    "        output = scan_str_content(text, suffix=\".txt\")\n",
    "        if  output:\n",
    "            pii.append(repr(output))\n",
    "            has_pii.append(True)\n",
    "        else:\n",
    "            pii.append(\"\")\n",
    "            has_pii.append(False)\n",
    "    return {\"pii\": pii, \"has_pii\": has_pii}\n",
    "\n",
    "ds_detect_secrets = final_ds.map(\n",
    "    scan_pii_batch,\n",
    "    batched=True,\n",
    "    batch_size=10,\n",
    "    num_proc=12,\n",
    "    load_from_cache_file=False\n",
    ")"
   ]
  },
  {
   "cell_type": "code",
   "execution_count": null,
   "metadata": {},
   "outputs": [],
   "source": [
    "ds_checks_ds = ds_detect_secrets.filter(\n",
    "    lambda exs: exs[\"has_pii\"],\n",
    "    batched=True,\n",
    "    batch_size=10,\n",
    "    num_proc=12,\n",
    ")"
   ]
  },
  {
   "cell_type": "code",
   "execution_count": 57,
   "metadata": {},
   "outputs": [
    {
     "data": {
      "text/plain": [
       "Dataset({\n",
       "    features: ['content', 'licenses', 'repository_name', 'path', 'size', 'lang', 'pii', 'has_pii'],\n",
       "    num_rows: 116\n",
       "})"
      ]
     },
     "execution_count": 57,
     "metadata": {},
     "output_type": "execute_result"
    }
   ],
   "source": [
    "ds_checks_ds"
   ]
  },
  {
   "cell_type": "code",
   "execution_count": null,
   "metadata": {},
   "outputs": [],
   "source": [
    "ds_checks_ds['pii']"
   ]
  },
  {
   "cell_type": "code",
   "execution_count": 59,
   "metadata": {},
   "outputs": [
    {
     "name": "stdout",
     "output_type": "stream",
     "text": [
      "dataset detected with our regexes: 600\n",
      "dataset detected with detect-secrets: 116\n"
     ]
    }
   ],
   "source": [
    "# global dataset\n",
    "print(f\"dataset detected with our regexes: {len(ds_checks_bs)}\")\n",
    "print(f\"dataset detected with detect-secrets: {len(ds_checks_ds)}\")"
   ]
  },
  {
   "cell_type": "code",
   "execution_count": 129,
   "metadata": {},
   "outputs": [],
   "source": [
    "#list of 200 random numbers less than 600\n",
    "import random\n",
    "random_list = random.sample(range(0, 600), 400)\n",
    "ds_checks_bs_small = ds_checks_bs.select(random_list)"
   ]
  },
  {
   "cell_type": "code",
   "execution_count": 130,
   "metadata": {},
   "outputs": [
    {
     "data": {
      "text/plain": [
       "Dataset({\n",
       "    features: ['content', 'licenses', 'repository_name', 'path', 'size', 'lang', 'regex_metadata', 'old_text', 'modified'],\n",
       "    num_rows: 400\n",
       "})"
      ]
     },
     "execution_count": 130,
     "metadata": {},
     "output_type": "execute_result"
    }
   ],
   "source": [
    "ds_checks_bs_small"
   ]
  },
  {
   "cell_type": "code",
   "execution_count": 131,
   "metadata": {},
   "outputs": [
    {
     "data": {
      "application/vnd.jupyter.widget-view+json": {
       "model_id": "fb1a24ade5324638a013a03bba807c75",
       "version_major": 2,
       "version_minor": 0
      },
      "text/plain": [
       "  0%|          | 0/1 [00:00<?, ?ba/s]"
      ]
     },
     "metadata": {},
     "output_type": "display_data"
    }
   ],
   "source": [
    "# remove overlap between ds_checks_ds and ds_checks_bs base on paths\n",
    "# keep files that aren't already in ds_checks_bs\n",
    "union_ds = ds_checks_ds.filter(lambda exs: exs[\"path\"] not in ds_checks_bs_small[\"path\"])"
   ]
  },
  {
   "cell_type": "code",
   "execution_count": 133,
   "metadata": {},
   "outputs": [
    {
     "data": {
      "text/plain": [
       "Dataset({\n",
       "    features: ['content', 'licenses', 'repository_name', 'path', 'size', 'lang', 'pii', 'has_pii'],\n",
       "    num_rows: 116\n",
       "})"
      ]
     },
     "execution_count": 133,
     "metadata": {},
     "output_type": "execute_result"
    }
   ],
   "source": [
    "ds_checks_ds"
   ]
  },
  {
   "cell_type": "code",
   "execution_count": 157,
   "metadata": {},
   "outputs": [],
   "source": [
    "union_ds = union_ds.rename_column(\"pii\", \"regex_metadata\")"
   ]
  },
  {
   "cell_type": "code",
   "execution_count": 163,
   "metadata": {},
   "outputs": [
    {
     "data": {
      "text/plain": [
       "Dataset({\n",
       "    features: ['licenses', 'repository_name', 'path', 'size', 'lang', 'regex_metadata', 'content'],\n",
       "    num_rows: 400\n",
       "})"
      ]
     },
     "execution_count": 163,
     "metadata": {},
     "output_type": "execute_result"
    }
   ],
   "source": [
    "ds_checks_bs_small"
   ]
  },
  {
   "cell_type": "code",
   "execution_count": 160,
   "metadata": {},
   "outputs": [],
   "source": [
    "ds_checks_bs_small = ds_checks_bs_small.remove_columns([\"content\", \"modified\"])"
   ]
  },
  {
   "cell_type": "code",
   "execution_count": 162,
   "metadata": {},
   "outputs": [],
   "source": [
    "ds_checks_bs_small = ds_checks_bs_small.rename_column(\"old_text\", \"content\")"
   ]
  },
  {
   "cell_type": "code",
   "execution_count": 164,
   "metadata": {},
   "outputs": [
    {
     "data": {
      "text/plain": [
       "Dataset({\n",
       "    features: ['licenses', 'repository_name', 'path', 'size', 'lang', 'regex_metadata', 'content'],\n",
       "    num_rows: 400\n",
       "})"
      ]
     },
     "execution_count": 164,
     "metadata": {},
     "output_type": "execute_result"
    }
   ],
   "source": [
    "ds_checks_bs_small"
   ]
  },
  {
   "cell_type": "code",
   "execution_count": 166,
   "metadata": {},
   "outputs": [],
   "source": [
    "union_ds = union_ds.remove_columns([\"has_pii\"])"
   ]
  },
  {
   "cell_type": "code",
   "execution_count": 167,
   "metadata": {},
   "outputs": [
    {
     "data": {
      "text/plain": [
       "Dataset({\n",
       "    features: ['content', 'licenses', 'repository_name', 'path', 'size', 'lang', 'regex_metadata'],\n",
       "    num_rows: 63\n",
       "})"
      ]
     },
     "execution_count": 167,
     "metadata": {},
     "output_type": "execute_result"
    }
   ],
   "source": [
    "union_ds"
   ]
  },
  {
   "cell_type": "code",
   "execution_count": 168,
   "metadata": {},
   "outputs": [
    {
     "data": {
      "text/plain": [
       "Dataset({\n",
       "    features: ['licenses', 'repository_name', 'path', 'size', 'lang', 'regex_metadata', 'content'],\n",
       "    num_rows: 463\n",
       "})"
      ]
     },
     "execution_count": 168,
     "metadata": {},
     "output_type": "execute_result"
    }
   ],
   "source": [
    "# concatenate the two datasets\n",
    "concat_ds = concatenate_datasets([ds_checks_bs_small, union_ds])\n",
    "concat_ds"
   ]
  },
  {
   "cell_type": "code",
   "execution_count": null,
   "metadata": {},
   "outputs": [],
   "source": [
    "# remove pii columns\n",
    "concat_ds = concat_ds.remove_columns(['pii', 'has_pii', 'modified', 'regex_metadata', 'content'])\n",
    "union_ds.rename_column(\"pii\", \"regex_metadata\")"
   ]
  },
  {
   "cell_type": "code",
   "execution_count": null,
   "metadata": {},
   "outputs": [],
   "source": [
    "# we need to remove overlap with previously annotated files\n",
    "annotated_dataset = load_dataset(\"data_lightag\", split=\"train\")"
   ]
  },
  {
   "cell_type": "markdown",
   "metadata": {},
   "source": [
    "Remove overlap with already annotated samples in LightTag"
   ]
  },
  {
   "cell_type": "code",
   "execution_count": 97,
   "metadata": {},
   "outputs": [],
   "source": [
    "# load json file\n",
    "import json\n",
    "with open('data_lightag/annotations.json') as f:\n",
    "    labels = json.load(f)"
   ]
  },
  {
   "cell_type": "code",
   "execution_count": 77,
   "metadata": {},
   "outputs": [
    {
     "data": {
      "text/plain": [
       "dict_keys(['content', 'seen_by', 'metadata', 'example_id', 'annotations', 'classifications'])"
      ]
     },
     "execution_count": 77,
     "metadata": {},
     "output_type": "execute_result"
    }
   ],
   "source": [
    "#1000 examples\n",
    "import json\n",
    "with open('data_lightag/annotations.json') as f:\n",
    "    labels = json.load(f)\n",
    "print(f\"level 0 format: {labels}, type, {type(labels)}, size: {len(labels)}\")\n",
    "print(f\"level 1 format: {labels['examples'][0].keys()}, size: {len(labels['examples'][0])}\")\n",
    "print(labels[\"examples\"][0][\"annotations\"][0].keys())\n",
    "\n",
    "checked = 0\n",
    "for i in range(len(labels[\"examples\"])):\n",
    "    seen = labels[\"examples\"][i][\"seen_by\"]\n",
    "    if seen:\n",
    "        checked += 1\n",
    "print(f\"checked: {checked}\")"
   ]
  },
  {
   "cell_type": "code",
   "execution_count": 78,
   "metadata": {},
   "outputs": [
    {
     "data": {
      "text/plain": [
       "dict_keys(['end', 'tag', 'start', 'value', 'tag_id', 'correct', 'reviewed', 'example_id', 'annotated_by', 'definition_id', 'tagged_token_id'])"
      ]
     },
     "execution_count": 78,
     "metadata": {},
     "output_type": "execute_result"
    }
   ],
   "source": [
    "labels[\"examples\"][0][\"annotations\"][0].keys()"
   ]
  },
  {
   "cell_type": "code",
   "execution_count": 79,
   "metadata": {},
   "outputs": [
    {
     "data": {
      "text/plain": [
       "[{'end': 115,\n",
       "  'tag': 'NAME',\n",
       "  'start': 102,\n",
       "  'value': 'Matthew James',\n",
       "  'tag_id': '9b5c5640-ead2-4583-8ca5-cb667536ab93',\n",
       "  'correct': None,\n",
       "  'reviewed': False,\n",
       "  'example_id': '0000214e-1ad6-431b-a8c9-f03f219eb159',\n",
       "  'annotated_by': [{'annotator': 'loubnabenallal1999@gmail.com',\n",
       "    'timestamp': '2022-11-02T12:35:59.461+00:00',\n",
       "    'annotator_id': 1}],\n",
       "  'definition_id': '0844deb1-4f23-49d2-92f5-e50755635bef',\n",
       "  'tagged_token_id': '465b55fa-04be-4547-8b32-ee816f920c2b'}]"
      ]
     },
     "execution_count": 79,
     "metadata": {},
     "output_type": "execute_result"
    }
   ],
   "source": [
    "#1000 examples\n",
    "labels[\"examples\"][0][\"annotations\"]"
   ]
  },
  {
   "cell_type": "code",
   "execution_count": 98,
   "metadata": {},
   "outputs": [],
   "source": [
    "checked = 0\n",
    "for i in range(len(labels[\"examples\"])):\n",
    "    seen = labels[\"examples\"][i][\"seen_by\"]\n",
    "    if seen:\n",
    "        checked += 1\n",
    "print(f\"checked: {checked}\")"
   ]
  },
  {
   "cell_type": "code",
   "execution_count": 99,
   "metadata": {},
   "outputs": [
    {
     "data": {
      "text/plain": [
       "180"
      ]
     },
     "execution_count": 99,
     "metadata": {},
     "output_type": "execute_result"
    }
   ],
   "source": [
    "checked"
   ]
  },
  {
   "cell_type": "code",
   "execution_count": 111,
   "metadata": {},
   "outputs": [],
   "source": [
    "# get list of paths of files that were checked from the dict labels\n",
    "checked_paths = []\n",
    "for i in range(1000):\n",
    "    seen = labels[\"examples\"][i][\"seen_by\"]\n",
    "    if seen:\n",
    "        #print(labels[\"examples\"][i][\"metadata\"][\"path\"])\n",
    "        checked_paths.append(labels[\"examples\"][i][\"metadata\"][\"path\"])"
   ]
  },
  {
   "cell_type": "code",
   "execution_count": 112,
   "metadata": {},
   "outputs": [
    {
     "data": {
      "text/plain": [
       "180"
      ]
     },
     "execution_count": 112,
     "metadata": {},
     "output_type": "execute_result"
    }
   ],
   "source": [
    "len(checked_paths)"
   ]
  },
  {
   "cell_type": "code",
   "execution_count": 135,
   "metadata": {},
   "outputs": [
    {
     "data": {
      "application/vnd.jupyter.widget-view+json": {
       "model_id": "5b7f32598c2848d98bbef68edd356d79",
       "version_major": 2,
       "version_minor": 0
      },
      "text/plain": [
       "  0%|          | 0/1 [00:00<?, ?ba/s]"
      ]
     },
     "metadata": {},
     "output_type": "display_data"
    }
   ],
   "source": [
    "# remove files from concat_ds that have a path in checked_paths\n",
    "concat_ds_filtered = concat_ds.filter(lambda exs: exs[\"path\"] not in checked_paths)"
   ]
  },
  {
   "cell_type": "code",
   "execution_count": 138,
   "metadata": {},
   "outputs": [
    {
     "data": {
      "text/plain": [
       "Dataset({\n",
       "    features: ['content', 'licenses', 'repository_name', 'path', 'size', 'lang', 'regex_metadata', 'old_text', 'modified', 'pii', 'has_pii'],\n",
       "    num_rows: 455\n",
       "})"
      ]
     },
     "execution_count": 138,
     "metadata": {},
     "output_type": "execute_result"
    }
   ],
   "source": [
    "concat_ds_filtered"
   ]
  },
  {
   "cell_type": "code",
   "execution_count": 137,
   "metadata": {},
   "outputs": [
    {
     "data": {
      "text/plain": [
       "Dataset({\n",
       "    features: ['content', 'licenses', 'repository_name', 'path', 'size', 'lang', 'regex_metadata', 'old_text', 'modified', 'pii', 'has_pii'],\n",
       "    num_rows: 463\n",
       "})"
      ]
     },
     "execution_count": 137,
     "metadata": {},
     "output_type": "execute_result"
    }
   ],
   "source": [
    "concat_ds"
   ]
  },
  {
   "cell_type": "code",
   "execution_count": 123,
   "metadata": {},
   "outputs": [
    {
     "data": {
      "application/vnd.jupyter.widget-view+json": {
       "model_id": "055ff44b82ee4ad79c0562845ad868d9",
       "version_major": 2,
       "version_minor": 0
      },
      "text/plain": [
       "  0%|          | 0/1 [00:00<?, ?ba/s]"
      ]
     },
     "metadata": {},
     "output_type": "display_data"
    },
    {
     "data": {
      "text/plain": [
       "Dataset({\n",
       "    features: ['content', 'licenses', 'repository_name', 'path', 'size', 'lang', 'regex_metadata', 'old_text', 'modified', 'pii', 'has_pii'],\n",
       "    num_rows: 510\n",
       "})"
      ]
     },
     "execution_count": 123,
     "metadata": {},
     "output_type": "execute_result"
    }
   ],
   "source": [
    "# remove 132 files from concat_ds_filtered if they aren't in ds_checks_ds\n",
    "concat_ds_filtered2 = concat_ds_filtered.filter(lambda exs: exs[\"path\"] not in ds_checks_ds[\"path\"])\n",
    "concat_ds_filtered2"
   ]
  },
  {
   "cell_type": "code",
   "execution_count": 171,
   "metadata": {},
   "outputs": [
    {
     "data": {
      "application/vnd.jupyter.widget-view+json": {
       "model_id": "0a3f829ad13941de88a65f352752026b",
       "version_major": 2,
       "version_minor": 0
      },
      "text/plain": [
       "  0%|          | 0/1 [00:00<?, ?ba/s]"
      ]
     },
     "metadata": {},
     "output_type": "display_data"
    }
   ],
   "source": [
    "# get list of paths in labels\n",
    "labels_paths = []\n",
    "for i in range(1000):\n",
    "    labels_paths.append(labels[\"examples\"][i][\"metadata\"][\"path\"])\n",
    "# check if concat_ds_filtered2 has any paths in labels_paths\n",
    "final_concat_ds = concat_ds.filter(lambda exs: exs[\"path\"] not in labels_paths)"
   ]
  },
  {
   "cell_type": "code",
   "execution_count": 215,
   "metadata": {},
   "outputs": [
    {
     "data": {
      "text/plain": [
       "'\\n  (?<= ^ | [)(\\\\s@,?!;:\\'\"\\\\p{Han}] )\\n  (@\\n    [^)(\\\\s@,?!;:\\'\"]{3,}\\n  )\\n'"
      ]
     },
     "execution_count": 215,
     "metadata": {},
     "output_type": "execute_result"
    }
   ],
   "source": [
    "user_pattern = r'''(?<=^|[)(\\\\s@,?!;:\\'\"\\\\p{Han}])(@[^)(\\\\s@,?!;:\\'\"]{3,})'''\n",
    "user_pattern"
   ]
  },
  {
   "cell_type": "code",
   "execution_count": 173,
   "metadata": {},
   "outputs": [
    {
     "data": {
      "application/vnd.jupyter.widget-view+json": {
       "model_id": "afc10954bbcd44428d0e5972f16dbce2",
       "version_major": 2,
       "version_minor": 0
      },
      "text/plain": [
       "Pushing dataset shards to the dataset hub:   0%|          | 0/1 [00:00<?, ?it/s]"
      ]
     },
     "metadata": {},
     "output_type": "display_data"
    }
   ],
   "source": [
    "final_concat_ds.push_to_hub(\"pii_labeling_dataset_v2\")"
   ]
  },
  {
   "cell_type": "code",
   "execution_count": 207,
   "metadata": {},
   "outputs": [
    {
     "name": "stderr",
     "output_type": "stream",
     "text": [
      "Loading cached processed dataset at /Users/loubnabenallal/.cache/huggingface/datasets/bigcode___json/bigcode--the-stack-smol-47d24a82622389e3/0.0.0/e6070c77f18f01a5ad4551a8b7edfba20b8438b7cad4d94e6ad9378022ce4aab/cache-711a96a45ffb1669.arrow\n"
     ]
    }
   ],
   "source": [
    "# filter files with size higher than 5000\n",
    "final_concat_ds2 = final_concat_ds.filter(lambda exs: exs[\"size\"] < 45100)"
   ]
  },
  {
   "cell_type": "code",
   "execution_count": 208,
   "metadata": {},
   "outputs": [
    {
     "data": {
      "application/vnd.jupyter.widget-view+json": {
       "model_id": "b7c2a0a0cd1142e1ac8a2a72799f8d85",
       "version_major": 2,
       "version_minor": 0
      },
      "text/plain": [
       "Pushing dataset shards to the dataset hub:   0%|          | 0/1 [00:00<?, ?it/s]"
      ]
     },
     "metadata": {},
     "output_type": "display_data"
    }
   ],
   "source": [
    "final_concat_ds2.push_to_hub(\"pii_labeling_pre_filter\")"
   ]
  },
  {
   "cell_type": "code",
   "execution_count": 210,
   "metadata": {},
   "outputs": [
    {
     "data": {
      "application/vnd.jupyter.widget-view+json": {
       "model_id": "fa9b3029f1964c7f979c6da446c8b620",
       "version_major": 2,
       "version_minor": 0
      },
      "text/plain": [
       "Creating json from Arrow format:   0%|          | 0/1 [00:00<?, ?ba/s]"
      ]
     },
     "metadata": {},
     "output_type": "display_data"
    },
    {
     "data": {
      "text/plain": [
       "3858451"
      ]
     },
     "execution_count": 210,
     "metadata": {},
     "output_type": "execute_result"
    }
   ],
   "source": [
    "final_concat_ds2.to_json(\"pii_prefiltered.json\", lines=False)"
   ]
  },
  {
   "cell_type": "code",
   "execution_count": 211,
   "metadata": {},
   "outputs": [
    {
     "data": {
      "text/plain": [
       "Dataset({\n",
       "    features: ['licenses', 'repository_name', 'path', 'size', 'lang', 'regex_metadata', 'content'],\n",
       "    num_rows: 400\n",
       "})"
      ]
     },
     "execution_count": 211,
     "metadata": {},
     "output_type": "execute_result"
    }
   ],
   "source": [
    "final_concat_ds2"
   ]
  },
  {
   "cell_type": "code",
   "execution_count": 149,
   "metadata": {},
   "outputs": [
    {
     "data": {
      "application/vnd.jupyter.widget-view+json": {
       "model_id": "2d02968cfc894197b19cea7b3623010d",
       "version_major": 2,
       "version_minor": 0
      },
      "text/plain": [
       "  0%|          | 0/510 [00:00<?, ?ex/s]"
      ]
     },
     "metadata": {},
     "output_type": "display_data"
    }
   ],
   "source": [
    "# build new column that is regex_metadata if not empty or has_pii if not empty or both\n",
    "def build_new_column(example):\n",
    "    new_column = \"\"\n",
    "    if example[\"has_pii\"] is not None:\n",
    "        new_column += example[\"pii\"]\n",
    "        print(f\"pii {example['pii']}\")\n",
    "    if example[\"regex_metadata\"] is not None:\n",
    "        new_column += example[\"regex_metadata\"]\n",
    "    return {\"pii_info\": new_column}\n",
    "\n",
    "concat_ds_filtered_f = concat_ds_filtered2.map(build_new_column)"
   ]
  },
  {
   "cell_type": "code",
   "execution_count": 109,
   "metadata": {},
   "outputs": [
    {
     "data": {
      "text/plain": [
       "Counter({'.h': 6,\n",
       "         '.cs': 6,\n",
       "         '.py': 35,\n",
       "         '.js': 16,\n",
       "         '.ts': 20,\n",
       "         '.php': 19,\n",
       "         '.hpp': 9,\n",
       "         '.cpp': 16,\n",
       "         '.md': 8,\n",
       "         '.cc': 4,\n",
       "         '.java': 23,\n",
       "         '.go': 5,\n",
       "         '.rb': 8,\n",
       "         '.tsx': 5})"
      ]
     },
     "execution_count": 109,
     "metadata": {},
     "output_type": "execute_result"
    }
   ],
   "source": [
    "# get distribution of each file extension from checked_paths\n",
    "import os\n",
    "from collections import Counter\n",
    "exts = [os.path.splitext(path)[1] for path in checked_paths]\n",
    "Counter(exts)"
   ]
  },
  {
   "cell_type": "code",
   "execution_count": 108,
   "metadata": {},
   "outputs": [
    {
     "data": {
      "image/png": "[encoded data removed]",
      "text/plain": [
       "<Figure size 640x480 with 1 Axes>"
      ]
     },
     "metadata": {},
     "output_type": "display_data"
    }
   ],
   "source": [
    "# get distribution of tags in annotations of labels\n",
    "from collections import Counter\n",
    "tags = []\n",
    "for i in range(1000):\n",
    "    for j in range(len(labels[\"examples\"][i][\"annotations\"])):\n",
    "        tags.append(labels[\"examples\"][i][\"annotations\"][j][\"tag\"])\n",
    "Counter(tags)\n",
    "# plot distribution of tags\n",
    "import matplotlib.pyplot as plt\n",
    "plt.bar(Counter(tags).keys(), Counter(tags).values())\n",
    "# add title to the plot saying tags from 180 annotated files\n",
    "plt.title(\"Tags from 180 annotated files\")\n",
    "# rotate xlabels\n",
    "plt.xticks(rotation=90)\n",
    "# change bar color to light pink\n",
    "plt.show()\n"
   ]
  },
  {
   "cell_type": "code",
   "execution_count": null,
   "metadata": {},
   "outputs": [],
   "source": [
    "#redact emails only with bigscience regex this time\n",
    "from redact_emails import run_pii_batch\n",
    "\n",
    "ds_pii_mails = final_ds.map(\n",
    "    partial(run_pii_batch),\n",
    "    batched=True,\n",
    "    batch_size=10,\n",
    "    num_proc=12,\n",
    "    load_from_cache_file=False\n",
    ")\n",
    "\n",
    "ds_checks_mails = ds_pii_mails.filter(\n",
    "    lambda exs: exs[\"modified\"],\n",
    "    batched=True,\n",
    "    batch_size=10,\n",
    "    num_proc=12\n",
    ")"
   ]
  },
  {
   "cell_type": "code",
   "execution_count": 47,
   "metadata": {},
   "outputs": [
    {
     "data": {
      "text/plain": [
       "Dataset({\n",
       "    features: ['content', 'licenses', 'repository_name', 'path', 'size', 'lang', 'regex_metadata', 'old_text', 'modified'],\n",
       "    num_rows: 1261\n",
       "})"
      ]
     },
     "execution_count": 47,
     "metadata": {},
     "output_type": "execute_result"
    }
   ],
   "source": [
    "ds_checks_mails\n",
    "# way too many false positives"
   ]
  }
 ],
 "metadata": {
  "kernelspec": {
   "display_name": "Python 3.10.4 ('venv')",
   "language": "python",
   "name": "python3"
  },
  "language_info": {
   "codemirror_mode": {
    "name": "ipython",
    "version": 3
   },
   "file_extension": ".py",
   "mimetype": "text/x-python",
   "name": "python",
   "nbconvert_exporter": "python",
   "pygments_lexer": "ipython3",
   "version": "3.10.4"
  },
  "orig_nbformat": 4,
  "vscode": {
   "interpreter": {
    "hash": "fd8fde6f83dada9276d12fdb71d773558994168ed1b3bea457b8db38c02aa2e1"
   }
  }
 },
 "nbformat": 4,
 "nbformat_minor": 2
}
