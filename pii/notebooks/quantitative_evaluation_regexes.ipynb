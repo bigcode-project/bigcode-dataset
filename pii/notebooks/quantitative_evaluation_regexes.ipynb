{
 "cells": [
  {
   "cell_type": "markdown",
   "metadata": {},
   "source": [
    "## Run PII detection on the dataset"
   ]
  },
  {
   "cell_type": "markdown",
   "metadata": {},
   "source": [
    "### 1. Use Regexes for all the PII types"
   ]
  },
  {
   "cell_type": "code",
   "execution_count": 6,
   "metadata": {},
   "outputs": [
    {
     "name": "stderr",
     "output_type": "stream",
     "text": [
      "Using custom data configuration bigcode--pii-for-code-2f55abc831915fa6\n",
      "Found cached dataset json (/Users/loubnabenallal/.cache/huggingface/datasets/bigcode___json/bigcode--pii-for-code-2f55abc831915fa6/0.0.0/e6070c77f18f01a5ad4551a8b7edfba20b8438b7cad4d94e6ad9378022ce4aab)\n"
     ]
    },
    {
     "data": {
      "application/vnd.jupyter.widget-view+json": {
       "model_id": "a1f35e1c560c4fa2b80506945bd46695",
       "version_major": 2,
       "version_minor": 0
      },
      "text/plain": [
       "  0%|          | 0/1 [00:00<?, ?it/s]"
      ]
     },
     "metadata": {},
     "output_type": "display_data"
    }
   ],
   "source": [
    "from datasets import load_dataset\n",
    "\n",
    "from pii_detection import scan_pii_batch\n",
    "\n",
    "from utils.evaluation import evaluate_pii, evaluate_pii_ds, recall_precision\n",
    "#from utils.jia_evaluation import evaluate_pii, evaluate_pii_ds, recall_precision\n",
    "\n",
    "ds = load_dataset(\"bigcode/pii-for-code\", use_auth_token=True)[\"train\"]"
   ]
  },
  {
   "cell_type": "code",
   "execution_count": 19,
   "metadata": {},
   "outputs": [
    {
     "data": {
      "text/plain": [
       "Dataset({\n",
       "    features: ['content', 'language', 'license', 'path', 'annotation_id', 'pii', 'pii_modified', 'id'],\n",
       "    num_rows: 400\n",
       "})"
      ]
     },
     "execution_count": 19,
     "metadata": {},
     "output_type": "execute_result"
    }
   ],
   "source": [
    "ds"
   ]
  },
  {
   "cell_type": "code",
   "execution_count": 9,
   "metadata": {},
   "outputs": [
    {
     "data": {
      "application/vnd.jupyter.widget-view+json": {
       "model_id": "0324b48adfc94b0db3997a7e4d7bbea3",
       "version_major": 2,
       "version_minor": 0
      },
      "text/plain": [
       "  0%|          | 0/40 [00:00<?, ?ba/s]"
      ]
     },
     "metadata": {},
     "output_type": "display_data"
    }
   ],
   "source": [
    "examples = ds.select(range(400))\n",
    "ds_pii_2 = examples.map(lambda x: scan_pii_batch(x, key_detector=\"other\"), batched=True, batch_size=10, load_from_cache_file=False)"
   ]
  },
  {
   "cell_type": "code",
   "execution_count": 10,
   "metadata": {},
   "outputs": [],
   "source": [
    "# evaluate on the whole 100 samples\n",
    "metrics_2, metrics_dict_2, details_2 = evaluate_pii_ds(ds_pii_2, pred_column='secrets', ref_column=\"pii_modified\", overall_score=False, alpha=0.8, beta=0.8, return_details=True)"
   ]
  },
  {
   "cell_type": "code",
   "execution_count": 12,
   "metadata": {},
   "outputs": [
    {
     "data": {
      "text/plain": [
       "{'EMAIL': {'recall': 0.9585492227979274, 'precision': 0.8767772511848341},\n",
       " 'IP_ADDRESS': {'recall': 0.8282828282828283, 'precision': 0.803921568627451},\n",
       " 'KEY': {'recall': 0.5294117647058824, 'precision': 0.782608695652174}}"
      ]
     },
     "execution_count": 12,
     "metadata": {},
     "output_type": "execute_result"
    }
   ],
   "source": [
    "metrics_2"
   ]
  },
  {
   "cell_type": "code",
   "execution_count": 23,
   "metadata": {},
   "outputs": [
    {
     "data": {
      "text/plain": [
       "{'EMAIL': {'TP': 185, 'FN': 8, 'FP': 26},\n",
       " 'IP_ADDRESS': {'TP': 82, 'FN': 17, 'FP': 20},\n",
       " 'KEY': {'TP': 18, 'FN': 16, 'FP': 5}}"
      ]
     },
     "execution_count": 23,
     "metadata": {},
     "output_type": "execute_result"
    }
   ],
   "source": [
    "metrics_dict_2"
   ]
  },
  {
   "cell_type": "markdown",
   "metadata": {},
   "source": [
    "The following data is used to build a visualization space"
   ]
  },
  {
   "cell_type": "code",
   "execution_count": null,
   "metadata": {},
   "outputs": [],
   "source": [
    "#let's just get emails\n",
    "email_detections = {\"FN\": [], \"FP\": []}\n",
    "TAGS = [\"EMAIL\", \"KEY\", \"IP_ADDRESS\"]\n",
    "\n",
    "def get_fn(data, tag):\n",
    "    detections = []\n",
    "    for i in range(len(data)):\n",
    "        details = data[i][\"details\"][tag]\n",
    "        if not details[\"FN\"]:\n",
    "            continue\n",
    "        # sort elements inside FN by start index\n",
    "        details[\"FN\"] = sorted(details[\"FN\"], key=lambda x: x[\"start\"])\n",
    "        print(f\"not skipped {i}\")\n",
    "        # add content to each detection while highlighting detected words\n",
    "        subparts = []\n",
    "        advance = 0\n",
    "        for detection in details[\"FN\"]:\n",
    "            if detection[\"value\"] == \"discoiquuid\":\n",
    "                print(\"wrong label found\")\n",
    "                continue\n",
    "            text = details[\"content\"][advance:detection[\"start\"]] \n",
    "            subpart = text if text else \" \"\n",
    "            subparts.append(subpart)\n",
    "            subparts.append(\"PI:FN:\" + details[\"content\"][detection[\"start\"]:detection[\"end\"]] + \"END_PI\")\n",
    "            print(tag, \"PI:FN:\" + details[\"content\"][detection[\"start\"]:detection[\"end\"]] + \"END_PI\")\n",
    "            last_part = details[\"content\"][detection[\"end\"]:]\n",
    "            advance = detection[\"end\"]\n",
    "        displayed_text = \"\".join(subparts) + last_part\n",
    "        detections.append(displayed_text)\n",
    "    return detections\n",
    "\n",
    "def get_fp(data, tag):\n",
    "    detections = []\n",
    "    for i in range(len(data)):\n",
    "        details = data[i][\"details\"][tag]\n",
    "        if not details[\"FP\"]:\n",
    "            continue\n",
    "        # sort elements inside FP by start index\n",
    "        details[\"FP\"] = sorted(details[\"FP\"], key=lambda x: x[\"start\"])\n",
    "        print(f\"not skipped {i}\")\n",
    "        # add content to each detection while highlighting detected words\n",
    "        subparts = []\n",
    "        advance = 0\n",
    "        for detection in details[\"FP\"]:\n",
    "            if detection[\"value\"] == \"discoiquuid\":\n",
    "                print(\"wrong label found\")\n",
    "                continue\n",
    "            text = details[\"content\"][advance:detection[\"start\"]] \n",
    "            subpart = text if text else \" \"\n",
    "            print(f\"length of subpart: {len(subpart)}\")\n",
    "            subparts.append(subpart)\n",
    "            subparts.append(\"PI:FP:\" + details[\"content\"][detection[\"start\"]:detection[\"end\"]] + \"END_PI\")\n",
    "            print(tag, \"PI:FP:\" + details[\"content\"][detection[\"start\"]:detection[\"end\"]] + \"END_PI\")\n",
    "            last_part = details[\"content\"][detection[\"end\"]:]\n",
    "            print(f\"length of last part: {len(last_part)}\")\n",
    "            advance = detection[\"end\"]\n",
    "        displayed_text = \"\".join(subparts) + last_part\n",
    "        detections.append(displayed_text)\n",
    "    return detections\n",
    "\n",
    "print(\"email FN\")\n",
    "email_detections_fn = get_fn(details_2, \"EMAIL\")\n",
    "print(\"email FP\")\n",
    "email_detections_fp = get_fp(details_2, \"EMAIL\")\n",
    "\n",
    "print(\"key FN\")\n",
    "key_detections_fn = get_fn(details_2, \"KEY\")\n",
    "print(\"key FP\")\n",
    "key_detections_fp = get_fp(details_2, \"KEY\")\n",
    "\n",
    "print(\"ip FN\")\n",
    "ip_detections_fn = get_fn(details_2, \"IP_ADDRESS\")\n",
    "print(\"ip FP\")\n",
    "ip_detections_fp = get_fp(details_2, \"IP_ADDRESS\")\n"
   ]
  },
  {
   "cell_type": "code",
   "execution_count": 28,
   "metadata": {},
   "outputs": [],
   "source": [
    "# save list in json file\n",
    "import json\n",
    "with open(\"data/email_detections_fn.json\", \"w\") as f:\n",
    "    json.dump(email_detections_fn, f)\n",
    "\n",
    "with open(\"data/email_detections_fp.json\", \"w\") as f:\n",
    "    json.dump(email_detections_fp, f)\n",
    "\n",
    "with open(\"data/key_detections_fn.json\", \"w\") as f:\n",
    "    json.dump(key_detections_fn, f)\n",
    "\n",
    "with open(\"data/key_detections_fp.json\", \"w\") as f:\n",
    "    json.dump(key_detections_fp, f)\n",
    "\n",
    "with open(\"data/ip_address_detections_fn.json\", \"w\") as f:\n",
    "    json.dump(ip_detections_fn, f)\n",
    "\n",
    "with open(\"data/ip_address_detections_fp.json\", \"w\") as f:\n",
    "    json.dump(ip_detections_fp, f)"
   ]
  },
  {
   "cell_type": "code",
   "execution_count": 59,
   "metadata": {},
   "outputs": [
    {
     "data": {
      "image/png": "[encoded data removed]",
      "text/plain": [
       "<Figure size 640x480 with 1 Axes>"
      ]
     },
     "metadata": {},
     "output_type": "display_data"
    }
   ],
   "source": [
    "# plot number TP, FP, FN for each tag\n",
    "# use ggplot style\n",
    "plt.style.use('ggplot')\n",
    "tags = [\"EMAIL\", \"IP_ADDRESS\", \"KEY\"]\n",
    "values = [metrics_dict_2[tag] for tag in tags]\n",
    "tp = [v[\"TP\"] for v in values]\n",
    "fp = [v[\"FP\"] for v in values]\n",
    "fn = [v[\"FN\"] for v in values]\n",
    "import matplotlib.pyplot as plt\n",
    "import numpy as np\n",
    "x = np.arange(len(tags))  # the label locations\n",
    "width = 0.15  # the width of the bars\n",
    "\n",
    "fig, ax = plt.subplots()\n",
    "# use mat\n",
    "# use green, dark orange and royal blue and bars shouldn't overlap\n",
    "rects1 = ax.bar(x - width, tp, width, label='TP', color=\"#228B22\")\n",
    "rects2 = ax.bar(x, fp, width, label='FP', color=\"#4169E1\")\n",
    "rects3 = ax.bar(x + width, fn, width, label='FN', color=\"#FF8C00\")\n",
    "\n",
    "# Add some text for labels, title and custom x-axis tick labels, etc.\n",
    "# use Mathematica text in title and increase size\n",
    "ax.set_title('Number of TP, FP, FN samples for each tag', fontname=\"STIXGeneral\", fontsize=16)\n",
    "\n",
    "ax.set_xticks(x)\n",
    "ax.set_xticklabels(tags)\n",
    "ax.legend()\n",
    "\n",
    "fig.tight_layout()\n",
    "\n",
    "plt.show()"
   ]
  },
  {
   "cell_type": "code",
   "execution_count": null,
   "metadata": {},
   "outputs": [],
   "source": [
    "# plot precision and recall of each tag from metrics_2\n",
    "tags = [\"EMAIL\", \"IP_ADDRESS\", \"KEY\"]\n",
    "values = [metrics_2[tag] for tag in tags]\n",
    "precision = [v[\"precision\"] for v in values]\n",
    "recall = [v[\"recall\"] for v in values]\n",
    "import matplotlib.pyplot as plt\n",
    "import numpy as np\n",
    "x = np.arange(len(tags))  # the label locations\n",
    "width = 0.15  # the width of the bars\n",
    "\n",
    "fig, ax = plt.subplots(figsize=(8,5), dpi=140)\n",
    "c0 = np.array([57, 62, 107])/255*1.5\n",
    "c1 = np.array([255, 117, 180])/255\n",
    "# use c0 and c1 as colors\n",
    "rects1 = ax.bar(x - width/2, precision, width, label='Precision', color=c0)\n",
    "rects2 = ax.bar(x + width/2, recall, width, label='Recall', color=c1)\n",
    "\n",
    "# Add some text for labels, title and custom x-axis tick labels, etc.\n",
    "\n",
    "ax.set_title('Precision and Recall for each entity', fontname=\"STIXGeneral\", fontsize=16)\n",
    "ax.set_ylim(0, 1)\n",
    "ax.set_yticks([0.2, 0.4, 0.6, 0.8, 1])\n",
    "ax.set_xticks(x)\n",
    "ax.set_xticklabels(tags)\n",
    "ax.set_axisbelow(True)\n",
    "ax.grid(True, which=\"major\", axis=\"y\")\n",
    "ax.grid(True, which=\"minor\", axis=\"y\", linestyle='dashed')\n",
    "ax.legend()\n",
    "\n",
    "fig.tight_layout()\n",
    "\n",
    "plt.show()"
   ]
  }
 ],
 "metadata": {
  "kernelspec": {
   "display_name": "Python 3.10.4 ('venv')",
   "language": "python",
   "name": "python3"
  },
  "language_info": {
   "codemirror_mode": {
    "name": "ipython",
    "version": 3
   },
   "file_extension": ".py",
   "mimetype": "text/x-python",
   "name": "python",
   "nbconvert_exporter": "python",
   "pygments_lexer": "ipython3",
   "version": "3.10.4"
  },
  "orig_nbformat": 4,
  "vscode": {
   "interpreter": {
    "hash": "fd8fde6f83dada9276d12fdb71d773558994168ed1b3bea457b8db38c02aa2e1"
   }
  }
 },
 "nbformat": 4,
 "nbformat_minor": 2
}
